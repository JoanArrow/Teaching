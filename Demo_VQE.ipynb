{
 "cells": [
  {
   "cell_type": "markdown",
   "metadata": {},
   "source": [
    "## Welcome to the Q-SEnSE Hackathon!\n",
    "### This is a warmup challenge designed to give you basic familiarity with the Variational Quantum Eigensolver (VQE) algorithm - and is designed to prepare you for the first Nvidia challenge!\n",
    "\n",
    "#### The goal of this challenge is to learn how to use VQE to calculate the groundstate energy of a molecule, and to consider ways this algorithm might take advantage of parallel computing."
   ]
  },
  {
   "cell_type": "markdown",
   "metadata": {},
   "source": [
    "#### Example Code:\n",
    "Your mission is to translate the example code from Pennylane into CUDA Quantum ($150)\n",
    "Here is an example of the random number generator written in PennyLane (Xanadu's quantum package) - your code should reproduce this function in CUDA Quantum!\n",
    "\n",
    "Read the PennyLane guide to get a basic understanding of VQE: https://pennylane.ai/qml/demos/tutorial_vqe/"
   ]
  },
  {
   "cell_type": "code",
   "execution_count": 2,
   "metadata": {},
   "outputs": [],
   "source": [
    "from jax import numpy as np\n",
    "import jax\n",
    "jax.config.update(\"jax_platform_name\", \"cpu\")\n",
    "jax.config.update('jax_enable_x64', True)\n",
    "\n",
    "symbols = [\"H\", \"H\"]\n",
    "coordinates = np.array([0.0, 0.0, -0.6614, 0.0, 0.0, 0.6614])"
   ]
  },
  {
   "cell_type": "code",
   "execution_count": 3,
   "metadata": {},
   "outputs": [
    {
     "name": "stdout",
     "output_type": "stream",
     "text": [
      "Number of qubits =  4\n",
      "The Hamiltonian is    (-0.24274501260941428) [Z3]\n",
      "+ (-0.24274501260941422) [Z2]\n",
      "+ (-0.04207255194743911) [I0]\n",
      "+ (0.17771358229091763) [Z0]\n",
      "+ (0.17771358229091766) [Z1]\n",
      "+ (0.12293330449299356) [Z0 Z2]\n",
      "+ (0.12293330449299356) [Z1 Z3]\n",
      "+ (0.1676833885560135) [Z0 Z3]\n",
      "+ (0.1676833885560135) [Z1 Z2]\n",
      "+ (0.17059759276836797) [Z0 Z1]\n",
      "+ (0.1762766139418181) [Z2 Z3]\n",
      "+ (-0.04475008406301993) [Y0 Y1 X2 X3]\n",
      "+ (-0.04475008406301993) [X0 X1 Y2 Y3]\n",
      "+ (0.04475008406301993) [Y0 X1 X2 Y3]\n",
      "+ (0.04475008406301993) [X0 Y1 Y2 X3]\n"
     ]
    }
   ],
   "source": [
    "import pennylane as qml\n",
    "\n",
    "H, qubits = qml.qchem.molecular_hamiltonian(symbols, coordinates)\n",
    "print(\"Number of qubits = \", qubits)\n",
    "print(\"The Hamiltonian is \", H)"
   ]
  },
  {
   "cell_type": "code",
   "execution_count": 4,
   "metadata": {},
   "outputs": [],
   "source": [
    "dataset = qml.data.load('qchem', molname=\"H2\")[0]\n",
    "H, qubits = dataset.hamiltonian, len(dataset.hamiltonian.wires)"
   ]
  },
  {
   "cell_type": "code",
   "execution_count": 5,
   "metadata": {},
   "outputs": [],
   "source": [
    "dev = qml.device(\"lightning.qubit\", wires=qubits)"
   ]
  },
  {
   "cell_type": "code",
   "execution_count": 6,
   "metadata": {},
   "outputs": [
    {
     "name": "stdout",
     "output_type": "stream",
     "text": [
      "[1 1 0 0]\n"
     ]
    }
   ],
   "source": [
    "electrons = 2\n",
    "hf = qml.qchem.hf_state(electrons, qubits)\n",
    "print(hf)"
   ]
  },
  {
   "cell_type": "code",
   "execution_count": null,
   "metadata": {},
   "outputs": [],
   "source": [
    "@qml.qnode(dev)\n",
    "def circuit(param, wires):\n",
    "    qml.BasisState(hf, wires=wires)\n",
    "    qml.DoubleExcitation(param, wires=[0, 1, 2, 3])\n",
    "    return qml.expval(H)"
   ]
  },
  {
   "cell_type": "code",
   "execution_count": null,
   "metadata": {},
   "outputs": [],
   "source": [
    "def cost_fn(param):\n",
    "    return circuit(param, wires=range(qubits))"
   ]
  },
  {
   "cell_type": "code",
   "execution_count": null,
   "metadata": {},
   "outputs": [],
   "source": [
    "import optax\n",
    "\n",
    "max_iterations = 100\n",
    "conv_tol = 1e-06\n",
    "\n",
    "opt = optax.sgd(learning_rate=0.4)"
   ]
  },
  {
   "cell_type": "code",
   "execution_count": null,
   "metadata": {},
   "outputs": [],
   "source": [
    "theta = np.array(0.)\n",
    "\n",
    "# store the values of the cost function\n",
    "energy = [cost_fn(theta)]\n",
    "\n",
    "# store the values of the circuit parameter\n",
    "angle = [theta]\n",
    "\n",
    "opt_state = opt.init(theta)\n",
    "\n",
    "for n in range(max_iterations):\n",
    "\n",
    "    gradient = jax.grad(cost_fn)(theta)\n",
    "    updates, opt_state = opt.update(gradient, opt_state)\n",
    "    theta = optax.apply_updates(theta, updates)\n",
    "\n",
    "    angle.append(theta)\n",
    "    energy.append(cost_fn(theta))\n",
    "\n",
    "    conv = np.abs(energy[-1] - energy[-2])\n",
    "\n",
    "    if n % 2 == 0:\n",
    "        print(f\"Step = {n},  Energy = {energy[-1]:.8f} Ha\")\n",
    "\n",
    "    if conv <= conv_tol:\n",
    "        break\n",
    "\n",
    "print(\"\\n\" f\"Final value of the ground-state energy = {energy[-1]:.8f} Ha\")\n",
    "print(\"\\n\" f\"Optimal value of the circuit parameter = {angle[-1]:.4f}\")"
   ]
  },
  {
   "cell_type": "code",
   "execution_count": null,
   "metadata": {},
   "outputs": [],
   "source": [
    "import matplotlib.pyplot as plt\n",
    "\n",
    "fig = plt.figure()\n",
    "fig.set_figheight(5)\n",
    "fig.set_figwidth(12)\n",
    "\n",
    "# Full configuration interaction (FCI) energy computed classically\n",
    "E_fci = -1.136189454088\n",
    "\n",
    "# Add energy plot on column 1\n",
    "ax1 = fig.add_subplot(121)\n",
    "ax1.plot(range(n + 2), energy, \"go\", ls=\"dashed\")\n",
    "ax1.plot(range(n + 2), np.full(n + 2, E_fci), color=\"red\")\n",
    "ax1.set_xlabel(\"Optimization step\", fontsize=13)\n",
    "ax1.set_ylabel(\"Energy (Hartree)\", fontsize=13)\n",
    "ax1.text(0.5, -1.1176, r\"$E_\\mathrm{HF}$\", fontsize=15)\n",
    "ax1.text(0, -1.1357, r\"$E_\\mathrm{FCI}$\", fontsize=15)\n",
    "plt.xticks(fontsize=12)\n",
    "plt.yticks(fontsize=12)\n",
    "\n",
    "# Add angle plot on column 2\n",
    "ax2 = fig.add_subplot(122)\n",
    "ax2.plot(range(n + 2), angle, \"go\", ls=\"dashed\")\n",
    "ax2.set_xlabel(\"Optimization step\", fontsize=13)\n",
    "ax2.set_ylabel(\"Gate parameter $\\\\theta$ (rad)\", fontsize=13)\n",
    "plt.xticks(fontsize=12)\n",
    "plt.yticks(fontsize=12)\n",
    "\n",
    "plt.subplots_adjust(wspace=0.3, bottom=0.2)\n",
    "plt.show()"
   ]
  },
  {
   "cell_type": "markdown",
   "metadata": {},
   "source": [
    "### Next we consider how to parallelize this problem.\n",
    "#### The VQE algorithm can be understood as preparing a quantum state $\\ket{\\psi_{min}}$ that has the minimum average energy $\\langle H \\rangle = \\bra{\\psi_{min}} H \\ket{\\psi_{min}}$ of the molecule described by the energy function (Hamiltonian) $H$.\n",
    "#### \n",
    "#### This minimization problem can be broken down into a series of smaller minimization problems where we minimize expectation values of products of Pauli operators $\\langle \\sigma^a_i \\sigma^b_j ... \\sigma^c_k \\rangle$ such that $H = \\sum_{a,i} \\sigma^a_i \\sigma^b_j ... \\sigma^c_k$.\n",
    "#### Here the superscript denotes the qubit upon which $\\sigma_i$ is acting and the subscript $i \\in \\{I, X, Y, Z\\}$ denotes which Pauli is being applied.\n",
    "\n",
    "### Some of these smaller minimization problems can be done in parallel!\n",
    "#### To figure out how many of these $\\langle \\sigma^a_i \\sigma^b_j ... \\sigma^c_k \\rangle$ can be computed in parallel - you must first consider the Pauli commutator table:"
   ]
  },
  {
   "attachments": {
    "image.png": {
     "image/png": "[encoded data removed]"
    }
   },
   "cell_type": "markdown",
   "metadata": {},
   "source": [
    "![image.png](attachment:image.png)"
   ]
  },
  {
   "cell_type": "markdown",
   "metadata": {},
   "source": [
    "##### Where $\\sigma_1 = X$, $\\sigma_2 = Y$, $\\sigma_3 = Z$. Note this table does not include $\\sigma_0 = I$, which commutes with everything!\n",
    "##### When comparing two Pauli strings $P_1 = \\sigma^a_i \\sigma^b_j ... \\sigma^c_k$ and $P_2 = \\sigma^{a'}_{i'} \\sigma^{b'}_{j'} ... \\sigma^{c'}_{k'}$ \n",
    "##### Simply check whether the Paulis acting on the same qubit commute. If all pairs commute then $P_1$ and $P_2$ commute! \n",
    "### If the commutator if two Pauli strings is 0, then they can be computed in parallel!"
   ]
  },
  {
   "cell_type": "code",
   "execution_count": null,
   "metadata": {},
   "outputs": [],
   "source": []
  }
 ],
 "metadata": {
  "kernelspec": {
   "display_name": "base",
   "language": "python",
   "name": "python3"
  },
  "language_info": {
   "codemirror_mode": {
    "name": "ipython",
    "version": 3
   },
   "file_extension": ".py",
   "mimetype": "text/x-python",
   "name": "python",
   "nbconvert_exporter": "python",
   "pygments_lexer": "ipython3",
   "version": "3.10.9"
  }
 },
 "nbformat": 4,
 "nbformat_minor": 2
}
