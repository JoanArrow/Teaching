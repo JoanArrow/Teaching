{
 "cells": [
  {
   "cell_type": "code",
   "execution_count": null,
   "metadata": {},
   "outputs": [],
   "source": [
    "#\n",
    "#Teaching demo showing Grover search on n bits using Qiskit\n",
    "#"
   ]
  },
  {
   "cell_type": "code",
   "execution_count": 17,
   "metadata": {},
   "outputs": [],
   "source": [
    "    def Grover(n):\n",
    "    #Define an interactive function that searches for a user-specified bit string \n",
    "    #This string is represented by integer m in a space of bit strings represented by integer n\n",
    "        import numpy as np\n",
    "        from qiskit import QuantumCircuit, QuantumRegister, ClassicalRegister, transpile\n",
    "        from qiskit import Aer, execute\n",
    "        from qiskit.visualization import plot_histogram\n",
    "        from qiskit.quantum_info import Statevector\n",
    "        #bring in necessary packages for a Qiskit program\n",
    "\n",
    "        # Use Aer's qasm_simulator \n",
    "        ### THIS MEANS THE PROGRAM IS NOT BEING RUN ON A REAL QUANTUM COMPUTER ###\n",
    "        simulator = Aer.get_backend('qasm_simulator')\n",
    "\n",
    "        # Create a Quantum Circuit acting on the quantum 'q' register\n",
    "        qr = QuantumRegister(n, 'q')\n",
    "        cr = ClassicalRegister(n, 'c')\n",
    "        circuit = QuantumCircuit(qr, cr)\n",
    "\n",
    "        def Toffoli(n):\n",
    "            \n",
    "        ### Ask the user to specify the bit string m to be marked for search ###            \n",
    "\n",
    "        #initialize the mark variable to enable the while loop to prompt the user for the bit string to search\n",
    "        mark = -1\n",
    "\n",
    "        #use while loop to prompt user for input and not move on until a valid input has been given\n",
    "        while mark <= 0 or n <= mark:\n",
    "            #ask user for input\n",
    "            mark = int(input(\"Which bit 0<=m<=n would you like to mark? \"))\n",
    "            if mark >= n:\n",
    "                #throw error if marked bit is larger than the database size n\n",
    "                mark = int(input(\"Invalid entry, m can not be greater than n. Which bit 0<=m<=n would you like to mark? \"))\n",
    "            if mark <= 0:\n",
    "                #throw error if marked bit is negative (nonsensical)\n",
    "                mark = int(input(\"Invalid entry, m must be positive. Which bit 0<=m<=n would you like to mark? \"))\n",
    "            else:\n",
    "                #once valid input is given, confirm marked bit\n",
    "                print(f\"You have marked\", mark)\n",
    "\n",
    "        b = bin(mark)[2:]\n",
    "        \n",
    "        "
   ]
  },
  {
   "cell_type": "code",
   "execution_count": 15,
   "metadata": {},
   "outputs": [],
   "source": [
    "\n",
    "    import numpy as np\n",
    "    from qiskit import QuantumCircuit, QuantumRegister, ClassicalRegister, transpile\n",
    "    from qiskit import Aer, execute\n",
    "    from qiskit.visualization import plot_histogram\n",
    "    from qiskit.quantum_info import Statevector\n",
    "    #bring in necessary packages for a Qiskit program"
   ]
  },
  {
   "cell_type": "code",
   "execution_count": 8,
   "metadata": {},
   "outputs": [
    {
     "ename": "NameError",
     "evalue": "name 'n' is not defined",
     "output_type": "error",
     "traceback": [
      "\u001b[1;31m---------------------------------------------------------------------------\u001b[0m",
      "\u001b[1;31mNameError\u001b[0m                                 Traceback (most recent call last)",
      "Cell \u001b[1;32mIn[8], line 6\u001b[0m\n\u001b[0;32m      3\u001b[0m simulator \u001b[38;5;241m=\u001b[39m Aer\u001b[38;5;241m.\u001b[39mget_backend(\u001b[38;5;124m'\u001b[39m\u001b[38;5;124mqasm_simulator\u001b[39m\u001b[38;5;124m'\u001b[39m)\n\u001b[0;32m      5\u001b[0m \u001b[38;5;66;03m# Create a Quantum Circuit acting on the quantum 'q' register\u001b[39;00m\n\u001b[1;32m----> 6\u001b[0m qr \u001b[38;5;241m=\u001b[39m QuantumRegister(\u001b[43mn\u001b[49m, \u001b[38;5;124m'\u001b[39m\u001b[38;5;124mq\u001b[39m\u001b[38;5;124m'\u001b[39m)\n\u001b[0;32m      7\u001b[0m cr \u001b[38;5;241m=\u001b[39m ClassicalRegister(n, \u001b[38;5;124m'\u001b[39m\u001b[38;5;124mc\u001b[39m\u001b[38;5;124m'\u001b[39m)\n\u001b[0;32m      8\u001b[0m circuit \u001b[38;5;241m=\u001b[39m QuantumCircuit(qr, cr)\n",
      "\u001b[1;31mNameError\u001b[0m: name 'n' is not defined"
     ]
    }
   ],
   "source": [
    "    # Use Aer's qasm_simulator \n",
    "    ### THIS MEANS THE PROGRAM IS NOT BEING RUN ON A REAL QUANTUM COMPUTER ###\n",
    "    simulator = Aer.get_backend('qasm_simulator')\n",
    "\n",
    "    # Create a Quantum Circuit acting on the quantum 'q' register\n",
    "    qr = QuantumRegister(n, 'q')\n",
    "    cr = ClassicalRegister(n, 'c')\n",
    "    circuit = QuantumCircuit(qr, cr)"
   ]
  },
  {
   "cell_type": "code",
   "execution_count": 14,
   "metadata": {},
   "outputs": [],
   "source": [
    "### Ask the user to specify the bit string m to be marked for search ###            \n",
    "n = 5\n",
    "#initialize the mark variable to enable the while loop to prompt the user for the bit string to search\n",
    "mark = -1\n",
    "\n",
    "#use while loop to prompt user for input and not move on until a valid input has been given\n",
    "while mark <= 0 or n <= mark:\n",
    "    #ask user for input\n",
    "    mark = int(input(\"Which bit 0<=m<=n would you like to mark? \"))\n",
    "    if mark >= n:\n",
    "        #throw error if marked bit is larger than the database size n\n",
    "        #print(\"Invalid entry, m can not be greater than n\")\n",
    "        mark = int(input(\"Invalid entry, m can not be greater than n. Which bit 0<=m<=n would you like to mark? \"))\n",
    "    if mark <= 0:\n",
    "        #throw error if marked bit is negative (nonsensical)\n",
    "        #print(\"Invalid entry, m must be positive\")\n",
    "        #print(f\"You have marked\", mark)\n",
    "        mark = int(input(\"Invalid entry, m must be positive. Which bit 0<=m<=n would you like to mark? \"))\n",
    "    else:\n",
    "        #once valid input is given, confirm marked bit\n",
    "        print(f\"You have marked\", mark)"
   ]
  },
  {
   "cell_type": "code",
   "execution_count": 19,
   "metadata": {},
   "outputs": [
    {
     "name": "stdout",
     "output_type": "stream",
     "text": [
      "100\n"
     ]
    }
   ],
   "source": [
    "Grover(5)"
   ]
  },
  {
   "cell_type": "code",
   "execution_count": null,
   "metadata": {},
   "outputs": [],
   "source": []
  }
 ],
 "metadata": {
  "kernelspec": {
   "display_name": "base",
   "language": "python",
   "name": "python3"
  },
  "language_info": {
   "codemirror_mode": {
    "name": "ipython",
    "version": 3
   },
   "file_extension": ".py",
   "mimetype": "text/x-python",
   "name": "python",
   "nbconvert_exporter": "python",
   "pygments_lexer": "ipython3",
   "version": "3.10.9"
  }
 },
 "nbformat": 4,
 "nbformat_minor": 2
}
