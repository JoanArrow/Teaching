{
 "cells": [
  {
   "cell_type": "code",
   "execution_count": 4,
   "metadata": {},
   "outputs": [],
   "source": [
    "import numpy as np\n",
    "from qiskit import QuantumCircuit, QuantumRegister, ClassicalRegister, transpile\n",
    "from qiskit import Aer, execute\n",
    "from qiskit.circuit.library.standard_gates import RXGate\n",
    "from qiskit.visualization import plot_histogram\n",
    "from qiskit.quantum_info import Statevector"
   ]
  },
  {
   "cell_type": "code",
   "execution_count": 54,
   "metadata": {},
   "outputs": [],
   "source": [
    "n = 4\n",
    "simulator = Aer.get_backend('qasm_simulator')\n",
    "# Create a Quantum Circuit acting on the quantum 'q' register\n",
    "qr = QuantumRegister(n, 'q')\n",
    "cr = ClassicalRegister(n, 'c')\n",
    "circuit = QuantumCircuit(qr, cr)"
   ]
  },
  {
   "cell_type": "code",
   "execution_count": 52,
   "metadata": {},
   "outputs": [],
   "source": [
    "def Toffoli(n):\n",
    "#define multi qubit toffoli on n qubits (n-1 controls) targeting qubit n-1\n",
    "###Maybe To DO\n",
    "#Create functionality of any target?\n",
    "###Maybe To DO\n",
    "#Define space-saver & time-saver modes via ancillary construction of Toffoli?\n",
    "    Cont_rot = RXGate(np.pi/2).control(1)\n",
    "    Neg_Cont_rot = RXGate(-np.pi/2).control(1)\n",
    "    Cont_rot2 = RXGate(np.pi/2).control(2)\n",
    "    ###cover invalid inputs\n",
    "    #if n = 2:\n",
    "\n",
    "    if n == 3:\n",
    "        circuit.ccx(0, 1, 2)\n",
    "        #print(circuit)\n",
    "    if n == 4:\n",
    "        circuit.append(Cont_rot, [n-2, n-1])\n",
    "        Toffoli(3)\n",
    "        circuit.append(Neg_Cont_rot, [n-2, n-1])\n",
    "        Toffoli(3)\n",
    "        circuit.append(Cont_rot2, [0, 1, n-1])\n",
    "        print(circuit)\n",
    "    ###To Do - define recursive circuit for all n > 4\n",
    "    #if n > 4:\n",
    "    #for i in range(n):\n",
    "    #    Cont_rot = RXGate(np.pi/2^n).control(1)\n",
    "    #    Neg_Cont_rot = RXGate(-np.pi/2^n).control(1)\n",
    "    #To Do - fix pi/2^n exponents\n",
    "\n"
   ]
  },
  {
   "cell_type": "code",
   "execution_count": 55,
   "metadata": {},
   "outputs": [
    {
     "name": "stdout",
     "output_type": "stream",
     "text": [
      "                                                 \n",
      "q_0: ─────────────■────────────────■───────■─────\n",
      "                  │                │       │     \n",
      "q_1: ─────────────■────────────────■───────■─────\n",
      "                ┌─┴─┐            ┌─┴─┐     │     \n",
      "q_2: ─────■─────┤ X ├─────■──────┤ X ├─────┼─────\n",
      "     ┌────┴────┐└───┘┌────┴─────┐└───┘┌────┴────┐\n",
      "q_3: ┤ Rx(π/2) ├─────┤ Rx(-π/2) ├─────┤ Rx(π/2) ├\n",
      "     └─────────┘     └──────────┘     └─────────┘\n",
      "c: 4/════════════════════════════════════════════\n",
      "                                                 \n"
     ]
    }
   ],
   "source": [
    "Toffoli(4)"
   ]
  },
  {
   "cell_type": "code",
   "execution_count": 38,
   "metadata": {},
   "outputs": [
    {
     "name": "stdout",
     "output_type": "stream",
     "text": [
      "     ┌───┐                                            \n",
      "q_0: ┤ X ├─────────────■────────────────■───────■─────\n",
      "     └───┘             │                │       │     \n",
      "q_1: ──────────────────■────────────────■───────┼─────\n",
      "     ┌───┐           ┌─┴─┐            ┌─┴─┐     │     \n",
      "q_2: ┤ X ├─────■─────┤ X ├─────■──────┤ X ├─────┼─────\n",
      "     └───┘┌────┴────┐└───┘┌────┴─────┐└───┘┌────┴────┐\n",
      "q_3: ─────┤ Rx(π/2) ├─────┤ Rx(-π/2) ├─────┤ Rx(π/2) ├\n",
      "          └─────────┘     └──────────┘     └─────────┘\n",
      "c: 4/═════════════════════════════════════════════════\n",
      "                                                      \n",
      "     ┌───┐                                            \n",
      "q_0: ┤ X ├─────────────■────────────────■───────■─────\n",
      "     └───┘             │                │       │     \n",
      "q_1: ──────────────────■────────────────■───────┼─────\n",
      "     ┌───┐           ┌─┴─┐            ┌─┴─┐     │     \n",
      "q_2: ┤ X ├─────■─────┤ X ├─────■──────┤ X ├─────┼─────\n",
      "     └───┘┌────┴────┐└───┘┌────┴─────┐└───┘┌────┴────┐\n",
      "q_3: ─────┤ Rx(π/2) ├─────┤ Rx(-π/2) ├─────┤ Rx(π/2) ├\n",
      "          └─────────┘     └──────────┘     └─────────┘\n",
      "c: 4/═════════════════════════════════════════════════\n",
      "                                                      \n"
     ]
    }
   ],
   "source": [
    "circuit.x(0)\n",
    "#circuit.x(1)\n",
    "circuit.x(2)\n",
    "Toffoli(4)\n",
    "print(circuit)"
   ]
  },
  {
   "cell_type": "code",
   "execution_count": 39,
   "metadata": {},
   "outputs": [
    {
     "data": {
      "text/plain": [
       "{'1101': 49, '0101': 51}"
      ]
     },
     "execution_count": 39,
     "metadata": {},
     "output_type": "execute_result"
    }
   ],
   "source": [
    "circuit.measure(qr, cr)\n",
    "\n",
    "# compile the circuit down to low-level QASM instructions\n",
    "# supported by the backend (not needed for simple circuits)\n",
    "compiled_circuit = transpile(circuit, simulator)\n",
    "\n",
    "# Execute the circuit on the qasm simulator\n",
    "job = simulator.run(compiled_circuit, shots=100)\n",
    "\n",
    "# Grab results from the job\n",
    "result = job.result()\n",
    "counts = result.get_counts(compiled_circuit)\n",
    "counts"
   ]
  },
  {
   "cell_type": "code",
   "execution_count": 34,
   "metadata": {},
   "outputs": [
    {
     "data": {
      "text/plain": [
       "{'1111': 100}"
      ]
     },
     "execution_count": 34,
     "metadata": {},
     "output_type": "execute_result"
    }
   ],
   "source": []
  },
  {
   "cell_type": "code",
   "execution_count": null,
   "metadata": {},
   "outputs": [],
   "source": []
  }
 ],
 "metadata": {
  "kernelspec": {
   "display_name": "base",
   "language": "python",
   "name": "python3"
  },
  "language_info": {
   "codemirror_mode": {
    "name": "ipython",
    "version": 3
   },
   "file_extension": ".py",
   "mimetype": "text/x-python",
   "name": "python",
   "nbconvert_exporter": "python",
   "pygments_lexer": "ipython3",
   "version": "3.10.9"
  }
 },
 "nbformat": 4,
 "nbformat_minor": 2
}
