{
 "cells": [
  {
   "cell_type": "code",
   "execution_count": 4,
   "metadata": {},
   "outputs": [],
   "source": [
    "import numpy as np\n",
    "from qiskit import QuantumCircuit, QuantumRegister, ClassicalRegister, transpile\n",
    "from qiskit import Aer, execute\n",
    "from qiskit.circuit.library.standard_gates import RXGate\n",
    "from qiskit.visualization import plot_histogram\n",
    "from qiskit.quantum_info import Statevector"
   ]
  },
  {
   "cell_type": "code",
   "execution_count": 19,
   "metadata": {},
   "outputs": [],
   "source": [
    "n = 4\n",
    "simulator = Aer.get_backend('qasm_simulator')\n",
    "# Create a Quantum Circuit acting on the quantum 'q' register\n",
    "qr = QuantumRegister(n, 'q')\n",
    "cr = ClassicalRegister(n, 'c')\n",
    "circuit = QuantumCircuit(qr, cr)"
   ]
  },
  {
   "cell_type": "code",
   "execution_count": 20,
   "metadata": {},
   "outputs": [],
   "source": [
    "def Toffoli(n):\n",
    "#define multi qubit toffoli on n qubits (n-1 controls) targeting qubit n-1\n",
    "###Maybe To DO\n",
    "#Create functionality of any target?\n",
    "###Maybe To DO\n",
    "#Define space-saver & time-saver modes via ancillary construction of Toffoli?\n",
    "    \n",
    "    ###cover invalid inputs\n",
    "    #if n = 2:\n",
    "\n",
    "    if n == 3:\n",
    "        circuit.ccx(0, 1, 2)\n",
    "        #print(circuit)\n",
    "    if n == 4:\n",
    "        Cont_rot = RXGate(np.pi/2).control(1)\n",
    "        Neg_Cont_rot = RXGate(-np.pi/2).control(1)\n",
    "        circuit.append(Cont_rot, [n-2, n-1])\n",
    "        Toffoli(3)\n",
    "        circuit.append(Neg_Cont_rot, [n-2, n-1])\n",
    "        Toffoli(3)\n",
    "        circuit.append(Cont_rot, [0, n-1])\n",
    "        #print(circuit)\n",
    "    ###To Do - define recursive circuit for all n > 4\n",
    "    #if n > 4:\n",
    "    #for i in range(n):\n",
    "    #    Cont_rot = RXGate(np.pi/2^n).control(1)\n",
    "    #    Neg_Cont_rot = RXGate(-np.pi/2^n).control(1)\n",
    "    #To Do - fix pi/2^n exponents\n",
    "\n"
   ]
  },
  {
   "cell_type": "code",
   "execution_count": 21,
   "metadata": {},
   "outputs": [
    {
     "name": "stdout",
     "output_type": "stream",
     "text": [
      "                                                 \n",
      "q_0: ─────────────■────────────────■───────■─────\n",
      "                  │                │       │     \n",
      "q_1: ─────────────■────────────────■───────┼─────\n",
      "                ┌─┴─┐            ┌─┴─┐     │     \n",
      "q_2: ─────■─────┤ X ├─────■──────┤ X ├─────┼─────\n",
      "     ┌────┴────┐└───┘┌────┴─────┐└───┘┌────┴────┐\n",
      "q_3: ┤ Rx(π/2) ├─────┤ Rx(-π/2) ├─────┤ Rx(π/2) ├\n",
      "     └─────────┘     └──────────┘     └─────────┘\n",
      "c: 4/════════════════════════════════════════════\n",
      "                                                 \n"
     ]
    }
   ],
   "source": [
    "Toffoli(4)"
   ]
  },
  {
   "cell_type": "code",
   "execution_count": null,
   "metadata": {},
   "outputs": [],
   "source": []
  }
 ],
 "metadata": {
  "kernelspec": {
   "display_name": "base",
   "language": "python",
   "name": "python3"
  },
  "language_info": {
   "codemirror_mode": {
    "name": "ipython",
    "version": 3
   },
   "file_extension": ".py",
   "mimetype": "text/x-python",
   "name": "python",
   "nbconvert_exporter": "python",
   "pygments_lexer": "ipython3",
   "version": "3.10.9"
  }
 },
 "nbformat": 4,
 "nbformat_minor": 2
}
